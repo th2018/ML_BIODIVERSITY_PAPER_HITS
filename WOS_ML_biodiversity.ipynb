{
 "cells": [
  {
   "cell_type": "code",
   "execution_count": 8,
   "metadata": {},
   "outputs": [
    {
     "data": {
      "text/plain": [
       "'C:\\\\Users\\\\huangt\\\\Downloads'"
      ]
     },
     "execution_count": 8,
     "metadata": {},
     "output_type": "execute_result"
    }
   ],
   "source": [
    "import re\n",
    "import time\n",
    "#!pip install selenium\n",
    "from selenium import webdriver\n",
    "from selenium.webdriver.common.keys import Keys\n",
    "from selenium.webdriver.support.ui import WebDriverWait\n",
    "from selenium.webdriver.support import expected_conditions as EC\n",
    "from selenium.webdriver.common.by import By\n",
    "import csv\n",
    "from bs4 import BeautifulSoup\n",
    "import os\n",
    "os.getcwd()"
   ]
  },
  {
   "cell_type": "code",
   "execution_count": 9,
   "metadata": {},
   "outputs": [
    {
     "name": "stdout",
     "output_type": "stream",
     "text": [
      "Regression tree AND biodiversity\n",
      "962\n",
      "Logistic regression AND biodiversity\n",
      "547\n",
      "Partial least square regression AND biodiversity\n",
      "75\n",
      "Maximum entropy AND biodiversity\n",
      "359\n",
      "Gaussian process model AND biodiversity\n",
      "24\n",
      "boosting AND biodiversity\n",
      "531\n",
      "Support vector machine AND biodiversity\n",
      "142\n",
      "Fully connected neural network AND biodiversity\n",
      "no papers\n",
      "Convolutional Neural Network AND biodiversity\n",
      "20\n",
      "Generative adversarial model AND biodiversity\n",
      "no papers\n",
      "decision tree AND biodiversity\n",
      "667\n",
      "machine learning AND biodiversity\n",
      "264\n",
      "Neural Network AND biodiversity\n",
      "254\n",
      "deep learning AND biodiversity\n",
      "77\n",
      "computer vision AND biodiversity\n",
      "42\n"
     ]
    }
   ],
   "source": [
    "browser = webdriver.Chrome('C:\\\\Users\\\\huangt\\\\Downloads\\\\chromedriver_win32\\\\chromedriver.exe')\n",
    "\n",
    "term = csv.reader(open('C:\\\\Users\\\\huangt\\\\Documents\\\\ml_biodiversity.csv')) \n",
    "writer = (open('C:\\\\Users\\\\huangt\\\\Documents\\\\ml_biodiversity_output.txt', 'a+'))  \n",
    "b=0\n",
    "next(term)\n",
    "lines = [l for l in term]\n",
    "for a in lines:\n",
    "    print (a[0])\n",
    "    b = b + 1\n",
    "    browser.get('https://apps.webofknowledge.com/WOS_GeneralSearch_input.do?product=WOS&search_mode=GeneralSearch&SID=3DqsOecQxzHXLGTSm6y&preferencesSaved=') #Add the Web of Science Link here\n",
    "\n",
    "    browser.find_element_by_xpath(\"//*[@id='clearIcon1']\").click()\n",
    "    browser.find_element_by_xpath(\"//*[@id='value(input1)']\").send_keys(a[0])\n",
    "    browser.find_element_by_xpath(\"//*[@id='searchCell1']/span[1]\").click()\n",
    "    try:\n",
    "        result = browser.find_element_by_xpath(\"//*[@id='hitCount.top']\").get_attribute(\"innerHTML\")\n",
    "        print (result)\n",
    "        to_write = a[0]+'/'+ result +'\\n'\n",
    "        writer.write(to_write)\n",
    "    except:\n",
    "        print ('no papers')\n",
    "        to_write = a[0]+'/'+ 'NA' +'\\n'\n",
    "        writer.write(to_write)\n",
    "writer.close()"
   ]
  }
 ],
 "metadata": {
  "kernelspec": {
   "display_name": "Python 3",
   "language": "python",
   "name": "python3"
  },
  "language_info": {
   "codemirror_mode": {
    "name": "ipython",
    "version": 3
   },
   "file_extension": ".py",
   "mimetype": "text/x-python",
   "name": "python",
   "nbconvert_exporter": "python",
   "pygments_lexer": "ipython3",
   "version": "3.6.5"
  }
 },
 "nbformat": 4,
 "nbformat_minor": 2
}
